{
 "cells": [
  {
   "cell_type": "markdown",
   "metadata": {
    "id": "xFFhYrbOaMQw"
   },
   "source": [
    "In this notebook, we will build an agent that acts as a restaurant waiter, capable of interacting with customers, answering their questions about the menu, and providing friendly responses. We will use the LangChain and LangGraph libraries to construct the agent's workflow and integrate it with OpenAI's GPT-based language models."
   ]
  },
  {
   "cell_type": "markdown",
   "metadata": {
    "id": "zKDHe_yblPPt"
   },
   "source": [
    "# Libraries, API Keys and Data"
   ]
  },
  {
   "cell_type": "markdown",
   "metadata": {
    "id": "8_BkQfr3aQpI"
   },
   "source": [
    "We need to install several libraries to build our agent:\n",
    "*   langchain-community and langchain-openai: For language model integrations and prompts.\n",
    "*   unstructured: For document loading and processing.\n",
    "*   faiss-cpu: For vector similarity search.\n",
    "*   langgraph: For constructing the workflow graph."
   ]
  },
  {
   "cell_type": "code",
   "execution_count": 2,
   "metadata": {
    "id": "qo4BH_5GluJb"
   },
   "outputs": [],
   "source": [
    "api_key = \"sk-project-ghhkDPwIdt5f6h58G4Kt4A\""
   ]
  },
  {
   "cell_type": "markdown",
   "metadata": {
    "id": "Ydujymwnaee-"
   },
   "source": [
    "We import necessary modules from LangChain and LangGraph. Make sure your OpenAI API key is stored with the key 'genai_course' in Colab's user data."
   ]
  },
  {
   "cell_type": "code",
   "execution_count": 3,
   "metadata": {
    "executionInfo": {
     "elapsed": 2794,
     "status": "ok",
     "timestamp": 1734369343567,
     "user": {
      "displayName": "Gladys Mawarni",
      "userId": "03879441175200282144"
     },
     "user_tz": 0
    },
    "id": "hfP4BQI7l2Vn"
   },
   "outputs": [],
   "source": [
    "from langchain_community.document_loaders import UnstructuredExcelLoader\n",
    "from langchain.text_splitter import RecursiveCharacterTextSplitter\n",
    "from langchain.vectorstores.faiss import FAISS\n",
    "from langchain.prompts import ChatPromptTemplate\n",
    "from langchain_openai import ChatOpenAI, OpenAIEmbeddings\n",
    "from langchain.schema.output_parser import StrOutputParser\n",
    "\n",
    "from typing import List\n",
    "from typing_extensions import TypedDict\n",
    "from IPython.display import display, Image\n",
    "\n",
    "from langgraph.graph import StateGraph, END"
   ]
  },
  {
   "cell_type": "markdown",
   "metadata": {
    "id": "iLxD_cR3axs9"
   },
   "source": [
    "We use UnstructuredExcelLoader to load data from the Excel file containing the restaurant menu. The mode=\"elements\" parameter ensures the data is loaded as individual elements."
   ]
  },
  {
   "cell_type": "code",
   "execution_count": 4,
   "metadata": {
    "id": "kIWAKk-Bmrk-"
   },
   "outputs": [],
   "source": [
    "# Specify the path to the Excel file containing the menu\n",
    "file = 'dim sum montijo.xlsx'\n",
    "\n",
    "# Create an instance of the loader with the specified mode\n",
    "loader = UnstructuredExcelLoader(file, mode=\"elements\")\n",
    "\n",
    "# Load the data from the Excel file\n",
    "data = loader.load()"
   ]
  },
  {
   "cell_type": "markdown",
   "metadata": {
    "id": "PVA81x39a4j-"
   },
   "source": [
    "We create embeddings for the menu data using OpenAIEmbeddings. FAISS is used to create a vector store from the documents, enabling efficient similarity search.\n",
    "\n"
   ]
  },
  {
   "cell_type": "code",
   "execution_count": 5,
   "metadata": {
    "id": "6Kouxr-NaypU"
   },
   "outputs": [],
   "source": [
    "# Initialize the embeddings model with the OpenAI API key\n",
    "embeddings = OpenAIEmbeddings(openai_api_key=api_key)\n",
    "\n",
    "# Create a vector store (FAISS) from the documents using the embeddings\n",
    "db = FAISS.from_documents(data, embeddings)"
   ]
  },
  {
   "cell_type": "markdown",
   "metadata": {
    "id": "fjRK87Jwns-N"
   },
   "source": [
    "# Process"
   ]
  },
  {
   "cell_type": "markdown",
   "metadata": {
    "id": "XBNPcbDaa9cG"
   },
   "source": [
    "We define a custom TypedDict class to keep track of the agent's state and implement functions representing different steps in the agent's workflow.\n",
    "\n",
    "AgentState stores all the necessary information about the current state of the conversation."
   ]
  },
  {
   "cell_type": "code",
   "execution_count": 6,
   "metadata": {
    "id": "cC2MLDiVnuga"
   },
   "outputs": [],
   "source": [
    "# Define a TypedDict to store the agent's state\n",
    "class AgentState(TypedDict):\n",
    "    start: bool             # Indicates if the conversation has started\n",
    "    conversation: int       # Keeps track of conversation turns\n",
    "    question: str           # Customer's question\n",
    "    answer: str             # Agent's answer\n",
    "    topic: bool             # Decision on whether the question is appropriate\n",
    "    documents: list         # Relevant documents retrieved\n",
    "    recursion_limit: int    # To avoid endless loops\n",
    "    memory: list            # Conversation history"
   ]
  },
  {
   "cell_type": "markdown",
   "metadata": {
    "id": "x_RSnbWJbCGS"
   },
   "source": [
    "This function initiates the conversation by greeting the customer and capturing their initial question."
   ]
  },
  {
   "cell_type": "code",
   "execution_count": 7,
   "metadata": {
    "id": "NLnp8FsXp6-V"
   },
   "outputs": [],
   "source": [
    "def greetings(state):\n",
    "    # Greet the customer\n",
    "    print(\"Hello! Welcome to the restaurant. I will be your waiter. How can I help you?\")\n",
    "\n",
    "    # Capture user input\n",
    "    user_input = input()\n",
    "\n",
    "    # Update the state with the customer's question and initialize conversation variables\n",
    "    state['question'] = user_input\n",
    "    state['conversation'] = 1\n",
    "    state['memory'] = [user_input]\n",
    "\n",
    "    return state"
   ]
  },
  {
   "cell_type": "markdown",
   "metadata": {
    "id": "0fCX2uYybGBD"
   },
   "source": [
    "We need to assess if the customer's question is appropriate for a waiter to answer."
   ]
  },
  {
   "cell_type": "code",
   "execution_count": 8,
   "metadata": {
    "id": "W8Y1Mfz1twOL"
   },
   "outputs": [],
   "source": [
    "def check_question(state):\n",
    "    # Get the customer's question from the state\n",
    "    question = state['question']\n",
    "\n",
    "    # Define the system prompt to evaluate the question's appropriateness\n",
    "    system_prompt = \"\"\"\n",
    "    You are a grader evaluating the appropriateness of a customer's question to a waiter or waitress in a restaurant.\n",
    "    Assess if the question is suitable to ask the restaurant staff and if the customer shows interest in continuing the conversation.\n",
    "    Respond with \"True\" if the question is appropriate for the staff or indicates the customer is asking a question or giving you information.\n",
    "    Otherwise respond with \"False\".\n",
    "    Provide only \"True\" or \"False\" in your response.\n",
    "    \"\"\"\n",
    "\n",
    "    # Create a prompt template for formatting\n",
    "    TEMPLATE = ChatPromptTemplate.from_messages([\n",
    "        (\"system\", system_prompt),\n",
    "        (\"human\", \"User question: {question}\"),\n",
    "    ])\n",
    "\n",
    "    # Format the prompt with the customer's question\n",
    "    prompt = TEMPLATE.format(question=question)\n",
    "\n",
    "    # Initialize the language model\n",
    "    model = ChatOpenAI(model=\"gpt-4o-mini\", api_key=api_key)\n",
    "\n",
    "    # Invoke the model with the prompt\n",
    "    response_text = model.invoke(prompt)\n",
    "\n",
    "    # Update the state with the model's decision\n",
    "    state['topic'] = response_text.content.strip()\n",
    "\n",
    "    return state"
   ]
  },
  {
   "cell_type": "markdown",
   "metadata": {
    "id": "6-v4zjuzbLJ6"
   },
   "source": [
    "This function routes the workflow based on whether the question is on-topic or off-topic."
   ]
  },
  {
   "cell_type": "code",
   "execution_count": 9,
   "metadata": {
    "id": "hznb2sccxRqC"
   },
   "outputs": [],
   "source": [
    "# Function to check if the LLM model decides if the question is on topic on top\n",
    "def topic_router(state):\n",
    "  topic = state['topic']\n",
    "  if topic == \"True\":\n",
    "    return \"on_topic\"\n",
    "  else:\n",
    "    return \"off_topic\""
   ]
  },
  {
   "cell_type": "markdown",
   "metadata": {
    "id": "xwX58OxPbP5S"
   },
   "source": [
    "Provides an appropriate response if the customer's question is off-topic."
   ]
  },
  {
   "cell_type": "code",
   "execution_count": 10,
   "metadata": {
    "id": "UeX6lFoGbMpb"
   },
   "outputs": [],
   "source": [
    "def off_topic_response(state):\n",
    "    # Check if it's the first conversation turn\n",
    "    if state['conversation'] <= 1:\n",
    "        state['answer'] = \"\\nI apologize, I can't answer that question. I can only answer questions about the menu in this restaurant.\"\n",
    "        print(state['answer'])\n",
    "    else:\n",
    "        state['answer'] = \"\\nHappy to help.\"\n",
    "        print(state['answer'])"
   ]
  },
  {
   "cell_type": "markdown",
   "metadata": {
    "id": "oVDvoA5IbTFJ"
   },
   "source": [
    "If the question is on-topic, we retrieve relevant documents and generate an answer using the language model.\n",
    "\n",
    "**Retrieve Relevant Documents**\n",
    "We use the conversation history to retrieve relevant menu items. similarity_search finds the most relevant documents."
   ]
  },
  {
   "cell_type": "code",
   "execution_count": 11,
   "metadata": {
    "id": "Ap1Ur4Rv1K_F"
   },
   "outputs": [],
   "source": [
    "def retrieve_docs(state):\n",
    "    # Combine the conversation history into a single string\n",
    "    memory = \" \".join(state['memory'])\n",
    "\n",
    "    # Retrieve the top 5 relevant documents based on similarity to the conversation history\n",
    "    docs_faiss = db.similarity_search(memory, k=5)\n",
    "\n",
    "    # Store the retrieved documents' content in the state\n",
    "    state['documents'] = [doc.page_content for doc in docs_faiss]\n",
    "\n",
    "    return state"
   ]
  },
  {
   "cell_type": "markdown",
   "metadata": {
    "id": "iMCHex0Zbexh"
   },
   "source": [
    "Generates an initial answer to the customer's question using the language model."
   ]
  },
  {
   "cell_type": "code",
   "execution_count": 12,
   "metadata": {
    "id": "JqX_eUfd4F-I"
   },
   "outputs": [],
   "source": [
    "def generate(state):\n",
    "    # Initialize the language model\n",
    "    model = ChatOpenAI(model=\"gpt-4o-mini\", api_key=api_key)\n",
    "\n",
    "    # Extract necessary information from the state\n",
    "    question = state['question']\n",
    "    documents = state['documents']\n",
    "    memory = state['memory']\n",
    "\n",
    "    # Define the system prompt for the waiter\n",
    "    system_prompt = \"\"\"\n",
    "    You are a waiter at a restaurant tasked with answering customer's questions about the menu.\n",
    "    Answer the question in the manner of a waiter, avoiding being too verbose or too brief.\n",
    "    Do not include \"waiter\" or refer to yourself explicitly in your answer.\n",
    "    \"\"\"\n",
    "\n",
    "    # Create a prompt template for formatting\n",
    "    TEMPLATE = ChatPromptTemplate.from_messages([\n",
    "        (\"system\", system_prompt),\n",
    "        (\"human\", \"Context: {documents}\\nConversation history so far: {memory}\\nCustomer question: {question}\"),\n",
    "    ])\n",
    "\n",
    "    # Format the prompt with the retrieved documents, conversation history, and customer's question\n",
    "    prompt = TEMPLATE.format(documents=documents, memory=memory, question=question)\n",
    "\n",
    "    # Invoke the model to generate an answer\n",
    "    response_text = model.invoke(prompt)\n",
    "\n",
    "    # Store the generated answer in the state\n",
    "    state[\"answer\"] = response_text.content.strip()\n",
    "\n",
    "    return state"
   ]
  },
  {
   "cell_type": "markdown",
   "metadata": {
    "id": "SRpxqcK1bjDj"
   },
   "source": [
    "We refine the generated answer to ensure it is appropriate, friendly, and professional."
   ]
  },
  {
   "cell_type": "code",
   "execution_count": 13,
   "metadata": {
    "id": "Mv5JPUSQ7WIO"
   },
   "outputs": [],
   "source": [
    "def improve_answer(state):\n",
    "    # Extract necessary information from the state\n",
    "    question = state['question']\n",
    "    answer = state['answer']\n",
    "    memory = state['memory']\n",
    "\n",
    "    # Define the system prompt for refining the answer\n",
    "    system = \"\"\"\n",
    "    As a waiter, review and refine the response to a customer's question. Your task is to:\n",
    "\n",
    "    1. Ensure the answer is appropriate, friendly, and informative.\n",
    "    2. Edit or remove parts of the answer as needed, without adding new information.\n",
    "    3. Maintain a polite, professional, and attentive tone.\n",
    "    4. Provide only the improved answer, without any introductory phrases or commentary.\n",
    "    5. Conclude the response with an open-ended question to invite further inquiries or address additional needs.\n",
    "    6. Consider the conversation history to be more informative and useful.\n",
    "    7. Include line breaks (`\\n`) at the end of each sentence or logical break.\n",
    "\n",
    "    Deliver a refined response that enhances the customer's experience and reflects the restaurant's commitment to customer service.\n",
    "    \"\"\"\n",
    "\n",
    "    # Create a prompt template for formatting\n",
    "    TEMPLATE = ChatPromptTemplate.from_messages([\n",
    "        (\"system\", system),\n",
    "        (\"human\", \"Customer question: {question}\\nConversation history: {memory}\\nWaiter's initial answer: {answer}\"),\n",
    "    ])\n",
    "\n",
    "    # Initialize the language model\n",
    "    model = ChatOpenAI(model=\"gpt-4o-mini\", api_key=api_key)\n",
    "\n",
    "    # Format the prompt with the necessary information\n",
    "    prompt = TEMPLATE.format(question=question, memory=memory, answer=answer)\n",
    "\n",
    "    # Invoke the model to improve the answer\n",
    "    response_text = model.invoke(prompt)\n",
    "\n",
    "    # Update the state with the improved answer\n",
    "    state['answer'] = response_text.content.strip()\n",
    "\n",
    "    # Display the improved answer\n",
    "    print('\\n')\n",
    "    print(state['answer'])\n",
    "\n",
    "    # Append the improved answer to the conversation history\n",
    "    state['memory'].append(state['answer'])\n",
    "\n",
    "    return state\n"
   ]
  },
  {
   "cell_type": "markdown",
   "metadata": {
    "id": "epvu8Z8zbob-"
   },
   "source": [
    "Allows the customer to ask additional questions and updates the conversation state accordingly."
   ]
  },
  {
   "cell_type": "code",
   "execution_count": 14,
   "metadata": {
    "id": "HBMcI77O-iUc"
   },
   "outputs": [],
   "source": [
    "def further_question(state):\n",
    "    # Prompt the customer for further input\n",
    "    print('\\n')\n",
    "    user_input = input()\n",
    "\n",
    "    # Update the state with the new question and increment the conversation turn\n",
    "    state['question'] = user_input\n",
    "    state['conversation'] += 1\n",
    "    state['memory'].append(user_input)\n",
    "\n",
    "    return state"
   ]
  },
  {
   "cell_type": "markdown",
   "metadata": {
    "id": "94ImIz1lnvMR"
   },
   "source": [
    "# Workflow"
   ]
  },
  {
   "cell_type": "markdown",
   "metadata": {
    "id": "pyR7Ob7TbuJH"
   },
   "source": [
    "We use StateGraph to define the workflow of the agent, connecting the functions we've defined.\n",
    "\n",
    "**Initialize StateGraph**\n",
    "StateGraph helps in defining the flow of the agent's state across different functions."
   ]
  },
  {
   "cell_type": "code",
   "execution_count": 15,
   "metadata": {
    "id": "Baqu20n3nypg"
   },
   "outputs": [],
   "source": [
    "# Initialize a StateGraph with the AgentState type\n",
    "workflow = StateGraph(AgentState)\n",
    "\n",
    "\n",
    "# Add the functions as nodes in the workflow\n",
    "workflow.add_node(\"greetings\", greetings)\n",
    "workflow.add_node(\"check_question\", check_question)\n",
    "workflow.add_node(\"off_topic_response\", off_topic_response)\n",
    "workflow.add_node(\"retrieve_docs\", retrieve_docs)\n",
    "workflow.add_node(\"generate\", generate)\n",
    "workflow.add_node(\"improve_answer\", improve_answer)\n",
    "workflow.add_node(\"further_question\", further_question)\n",
    "\n",
    "# Set the entry point of the workflow to the greetings function\n",
    "workflow.set_entry_point(\"greetings\")\n",
    "\n",
    "# Add conditional edges based on the topic_router function's output\n",
    "workflow.add_conditional_edges(\n",
    "    \"check_question\",\n",
    "    topic_router,\n",
    "    {\n",
    "        \"on_topic\": \"retrieve_docs\",\n",
    "        \"off_topic\": \"off_topic_response\"\n",
    "    }\n",
    ")\n",
    "\n",
    "# Define the sequence of steps in the workflow\n",
    "workflow.add_edge(\"greetings\", \"check_question\")\n",
    "workflow.add_edge(\"retrieve_docs\", \"generate\")\n",
    "workflow.add_edge(\"generate\", \"improve_answer\")\n",
    "workflow.add_edge(\"improve_answer\", \"further_question\")\n",
    "workflow.add_edge(\"further_question\", \"check_question\")\n",
    "\n",
    "# Connect the off_topic_response node to the end of the workflow\n",
    "workflow.add_edge(\"off_topic_response\", END)\n",
    "\n",
    "# Compile the workflow into an application\n",
    "app = workflow.compile()"
   ]
  },
  {
   "cell_type": "code",
   "execution_count": 16,
   "metadata": {
    "colab": {
     "base_uri": "https://localhost:8080/",
     "height": 686
    },
    "executionInfo": {
     "elapsed": 2039,
     "status": "ok",
     "timestamp": 1726492732825,
     "user": {
      "displayName": "Diogo Resende",
      "userId": "05706604408624562002"
     },
     "user_tz": -120
    },
    "id": "sDYH1NBpoaWo",
    "outputId": "5f8e074c-b88f-4b82-d5fc-e26f5e369e15"
   },
   "outputs": [
    {
     "data": {
      "image/png": "[encoded data removed]",
      "text/plain": [
       "<IPython.core.display.Image object>"
      ]
     },
     "metadata": {},
     "output_type": "display_data"
    }
   ],
   "source": [
    "# Display the workflow graph for visualization\n",
    "display(Image(app.get_graph(xray=True).draw_mermaid_png()))"
   ]
  },
  {
   "cell_type": "code",
   "execution_count": 20,
   "metadata": {
    "colab": {
     "base_uri": "https://localhost:8080/"
    },
    "executionInfo": {
     "elapsed": 87332,
     "status": "ok",
     "timestamp": 1726492836670,
     "user": {
      "displayName": "Diogo Resende",
      "userId": "05706604408624562002"
     },
     "user_tz": -120
    },
    "id": "-zrDbaJp3WeB",
    "outputId": "2ada6675-5f40-4895-b7e2-e24856f48f23"
   },
   "outputs": [
    {
     "name": "stdout",
     "output_type": "stream",
     "text": [
      "Hello! Welcome to the restaurant. I will be your waiter. How can I help you?\n",
      "\n",
      "\n",
      "We offer a variety of delicious options!  \n",
      "\n",
      "Here are some highlights:  \n",
      "\n",
      "- **Soups**: Try our Won Ton Soup with pork and shrimp or the Vegetarian Soup featuring bamboo and mushrooms.  \n",
      "\n",
      "- **Rice & Vegetables**: We have white or steamed rice, as well as steamed paksoy.  \n",
      "\n",
      "- **Dumplings**: Our Siao Long Pao, available in both traditional and black varieties, are popular choices, along with a selection of gyozas filled with shrimp, vegetables, duck, or chicken.  \n",
      "\n",
      "- **Classics**: Don’t miss dishes like Cha Siu Pao with BBQ pork, Siu Mai with shrimp and pork, or our flavorful steamed rolls.  \n",
      "\n",
      "- **Baos**: We offer various fillings, including duck, shrimp, and tofu.  \n",
      "\n",
      "- **Crepes**: Enjoy lacquered duck or vegetable crepes.  \n",
      "\n",
      "- **Crunchy Options**: We also have fortune bags, Szechuan won ton, and Shanghai prawns.  \n",
      "\n",
      "Would you like recommendations on any specific items or dietary preferences?\n",
      "\n",
      "\n",
      "\n",
      "Happy to help.\n"
     ]
    }
   ],
   "source": [
    "# Invoke the application with the initial state\n",
    "result = app.invoke({\"start\": True}, {\"recursion_limit\": 50})\n"
   ]
  },
  {
   "cell_type": "markdown",
   "metadata": {
    "id": "_hdpAD7FcHn4"
   },
   "source": [
    "In this notebook, we have built an agent that simulates a restaurant waiter, capable of interacting with customers in a friendly and professional manner. We utilized LangChain and LangGraph to construct the agent's workflow and integrated OpenAI's language models for generating responses."
   ]
  }
 ],
 "metadata": {
  "colab": {
   "provenance": []
  },
  "kernelspec": {
   "display_name": "Python 3 (ipykernel)",
   "language": "python",
   "name": "python3"
  },
  "language_info": {
   "codemirror_mode": {
    "name": "ipython",
    "version": 3
   },
   "file_extension": ".py",
   "mimetype": "text/x-python",
   "name": "python",
   "nbconvert_exporter": "python",
   "pygments_lexer": "ipython3",
   "version": "3.13.3"
  }
 },
 "nbformat": 4,
 "nbformat_minor": 4
}
